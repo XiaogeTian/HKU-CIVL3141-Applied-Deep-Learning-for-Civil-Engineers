{
 "cells": [
  {
   "cell_type": "markdown",
   "id": "8a83d360-a6be-48b6-b08f-3e83d69e7681",
   "metadata": {},
   "source": [
    "# **1. Qwen-VL Large Lanuage Model in understanding the visual information**\n",
    "To function the API call automatically, you need to install some necessary packages"
   ]
  },
  {
   "cell_type": "code",
   "execution_count": 29,
   "id": "19dbf9c9-1e83-4f8b-9172-27d25a3e52e9",
   "metadata": {},
   "outputs": [
    {
     "name": "stdout",
     "output_type": "stream",
     "text": [
      "Looking in indexes: https://pypi.org/simple, https://pypi.ngc.nvidia.com\n",
      "Requirement already satisfied: openai in d:\\anaconda\\envs\\civl3141\\lib\\site-packages (1.63.0)\n",
      "Requirement already satisfied: anyio<5,>=3.5.0 in d:\\anaconda\\envs\\civl3141\\lib\\site-packages (from openai) (4.5.2)\n",
      "Requirement already satisfied: distro<2,>=1.7.0 in d:\\anaconda\\envs\\civl3141\\lib\\site-packages (from openai) (1.9.0)\n",
      "Requirement already satisfied: httpx<1,>=0.23.0 in d:\\anaconda\\envs\\civl3141\\lib\\site-packages (from openai) (0.28.1)\n",
      "Requirement already satisfied: jiter<1,>=0.4.0 in d:\\anaconda\\envs\\civl3141\\lib\\site-packages (from openai) (0.8.2)\n",
      "Requirement already satisfied: pydantic<3,>=1.9.0 in d:\\anaconda\\envs\\civl3141\\lib\\site-packages (from openai) (2.10.6)\n",
      "Requirement already satisfied: sniffio in d:\\anaconda\\envs\\civl3141\\lib\\site-packages (from openai) (1.3.1)\n",
      "Requirement already satisfied: tqdm>4 in d:\\anaconda\\envs\\civl3141\\lib\\site-packages (from openai) (4.67.1)\n",
      "Requirement already satisfied: typing-extensions<5,>=4.11 in d:\\anaconda\\envs\\civl3141\\lib\\site-packages (from openai) (4.12.2)\n",
      "Requirement already satisfied: idna>=2.8 in d:\\anaconda\\envs\\civl3141\\lib\\site-packages (from anyio<5,>=3.5.0->openai) (3.10)\n",
      "Requirement already satisfied: exceptiongroup>=1.0.2 in d:\\anaconda\\envs\\civl3141\\lib\\site-packages (from anyio<5,>=3.5.0->openai) (1.2.2)\n",
      "Requirement already satisfied: certifi in d:\\anaconda\\envs\\civl3141\\lib\\site-packages (from httpx<1,>=0.23.0->openai) (2025.1.31)\n",
      "Requirement already satisfied: httpcore==1.* in d:\\anaconda\\envs\\civl3141\\lib\\site-packages (from httpx<1,>=0.23.0->openai) (1.0.7)\n",
      "Requirement already satisfied: h11<0.15,>=0.13 in d:\\anaconda\\envs\\civl3141\\lib\\site-packages (from httpcore==1.*->httpx<1,>=0.23.0->openai) (0.14.0)\n",
      "Requirement already satisfied: annotated-types>=0.6.0 in d:\\anaconda\\envs\\civl3141\\lib\\site-packages (from pydantic<3,>=1.9.0->openai) (0.7.0)\n",
      "Requirement already satisfied: pydantic-core==2.27.2 in d:\\anaconda\\envs\\civl3141\\lib\\site-packages (from pydantic<3,>=1.9.0->openai) (2.27.2)\n",
      "Requirement already satisfied: colorama in d:\\anaconda\\envs\\civl3141\\lib\\site-packages (from tqdm>4->openai) (0.4.6)\n",
      "Note: you may need to restart the kernel to use updated packages.\n"
     ]
    }
   ],
   "source": [
    "pip install openai\n",
    "pip install dashscope"
   ]
  },
  {
   "cell_type": "markdown",
   "id": "55635a57-f02a-42eb-bb62-f66dd49e5e5b",
   "metadata": {},
   "source": [
    "## **2. Qwen-VL Large Lanuage Model in understanding the visual information**\n",
    "To function the API call automatically, you have to replace the following api_key=\"\" to your own api key so that the LLM can work for your prompt"
   ]
  },
  {
   "cell_type": "code",
   "execution_count": 21,
   "id": "be0f110a-d0da-4fb8-ade8-edc1d0a514ec",
   "metadata": {},
   "outputs": [
    {
     "name": "stdout",
     "output_type": "stream",
     "text": [
      "The picture shows a heartwarming scene on a beach during what appears to be sunset. A person is sitting on the sand, wearing a plaid shirt and jeans, and is interacting with a dog. The dog, which is wearing a harness, is extending its paw towards the person's hand, as if they are playing a game of \"paw shake.\" The background features the ocean with gentle waves and a bright, warm light that suggests the sun is setting. The overall atmosphere is serene and joyful.\n"
     ]
    }
   ],
   "source": [
    "import os\n",
    "from openai import OpenAI\n",
    "\n",
    "client = OpenAI(\n",
    "    api_key=\"sk-73009b1ebbb84cc1aa2b3efeba348f87\",\n",
    "    base_url=\"https://dashscope.aliyuncs.com/compatible-mode/v1\",\n",
    ")\n",
    "\n",
    "completion = client.chat.completions.create(\n",
    "    model=\"qwen-vl-max-latest\",\n",
    "    messages=[\n",
    "        {\n",
    "            \"role\": \"system\",\n",
    "            \"content\": [{\"type\": \"text\", \"text\": \"You are a helpful assistant.\"}],\n",
    "        },\n",
    "        {\n",
    "            \"role\": \"user\",\n",
    "            \"content\": [\n",
    "                {\n",
    "                    \"type\": \"image_url\",\n",
    "                    \"image_url\": {\n",
    "                        \"url\": \"https://help-static-aliyun-doc.aliyuncs.com/file-manage-files/zh-CN/20241022/emyrja/dog_and_girl.jpeg\"\n",
    "                    },\n",
    "                },\n",
    "                {\"type\": \"text\", \"text\": \"What is displayed in the picture?\"},\n",
    "            ],\n",
    "        },\n",
    "    ],\n",
    ")\n",
    "\n",
    "print(completion.choices[0].message.content)"
   ]
  },
  {
   "cell_type": "markdown",
   "id": "ff882ff7-b8d8-4814-8f06-593fcd02fafe",
   "metadata": {},
   "source": [
    "## **3. Qwen-VL  multiple calls**\n",
    "To function the API call automatically, you have to replace the following api_key=\"\" to your own api key so that the LLM can work for your prompt"
   ]
  },
  {
   "cell_type": "code",
   "execution_count": 23,
   "id": "b81fc6ac-5ff4-4b19-9e0a-34050a8fd6ce",
   "metadata": {},
   "outputs": [
    {
     "name": "stdout",
     "output_type": "stream",
     "text": [
      "First call：The image shows a person sitting on the beach with a dog. The person is wearing a plaid shirt and appears to be interacting playfully with the dog, which is wearing a harness. The background features the ocean and a bright, sunny sky. The specific identity of the person cannot be determined from the image.\n",
      "Second call：Upon the sandy shore, where waves embrace,\n",
      "A bond of love and joy finds its place.\n",
      "The sun's warm glow, a golden embrace,\n",
      "As human and canine share a tender space.\n",
      "\n",
      "With paws outstretched, in playful dance,\n",
      "They meet in harmony, a moment so grand.\n",
      "Laughter rings out, a sweet serenade,\n",
      "In this beachside scene, their hearts entwined.\n",
      "\n",
      "The ocean whispers secrets to the breeze,\n",
      "While the sand beneath them tells stories of peace.\n",
      "Each grain a memory, each wave a verse,\n",
      "Of friendship's strength, that nothing can disperse.\n",
      "\n",
      "Together they sit, as time seems to pause,\n",
      "In this perfect moment, all else is cause.\n",
      "For joy and connection, pure and true,\n",
      "In the company of one another, life feels anew.\n",
      "\n",
      "So let us cherish these moments so rare,\n",
      "Where love and laughter fill the air.\n",
      "For in this scene, we find our truth,\n",
      "That life's greatest gifts are found in simple youth.\n"
     ]
    }
   ],
   "source": [
    "from openai import OpenAI\n",
    "import os\n",
    "\n",
    "client = OpenAI(\n",
    "    # Please replace the API Key below to your own api key：api_key=\"sk-xxx\"\n",
    "    api_key=\"sk-73009b1ebbb84cc1aa2b3efeba348f87\",\n",
    "    base_url=\"https://dashscope.aliyuncs.com/compatible-mode/v1\"\n",
    ")\n",
    "messages = [\n",
    "    {\n",
    "        \"role\": \"system\",\n",
    "        \"content\": [{\"type\": \"text\", \"text\": \"You are a helpful assistant.\"}]},\n",
    "    {\n",
    "        \"role\": \"user\",\n",
    "        \"content\": [\n",
    "            {\n",
    "                \"type\": \"image_url\",\n",
    "                \"image_url\": {\n",
    "                    \"url\": \"https://help-static-aliyun-doc.aliyuncs.com/file-manage-files/zh-CN/20241022/emyrja/dog_and_girl.jpeg\"\n",
    "                },\n",
    "            },\n",
    "            {\"type\": \"text\", \"text\": \"Who's there in the figure？\"},\n",
    "        ],\n",
    "    }\n",
    "]\n",
    "completion = client.chat.completions.create(\n",
    "    model=\"qwen-vl-max-latest\",\n",
    "    messages=messages,\n",
    "    )\n",
    "print(f\"First call：{completion.choices[0].message.content}\")\n",
    "assistant_message = completion.choices[0].message\n",
    "messages.append(assistant_message.model_dump())\n",
    "messages.append({\n",
    "        \"role\": \"user\",\n",
    "        \"content\": [\n",
    "        {\n",
    "            \"type\": \"text\",\n",
    "            \"text\": \"Write a poem about the scene\"\n",
    "        }\n",
    "        ]\n",
    "    })\n",
    "completion = client.chat.completions.create(\n",
    "    model=\"qwen-vl-max-latest\",\n",
    "    messages=messages,\n",
    "    )\n",
    "print(f\"Second call：{completion.choices[0].message.content}\")"
   ]
  },
  {
   "cell_type": "markdown",
   "id": "53b40281-1b0b-488e-964f-856e82546f9e",
   "metadata": {},
   "source": [
    "## **4. Qwen-VL input from local files**"
   ]
  },
  {
   "cell_type": "code",
   "execution_count": 24,
   "id": "a2a89c7b-949c-4bf8-bd66-38049c092813",
   "metadata": {},
   "outputs": [
    {
     "name": "stdout",
     "output_type": "stream",
     "text": [
      "In the scene, a person and a dog are enjoying a playful moment on a sandy beach. The person is sitting on the sand, smiling, and appears to be engaging in a \"paw shake\" with the dog. The dog, wearing a harness, is standing on its hind legs, extending its front paw towards the person's hand. The background shows the ocean and the sun setting or rising, creating a warm and serene atmosphere. This interaction suggests a bond between the person and the dog, and the setting indicates they might be spending quality time together outdoors.\n"
     ]
    }
   ],
   "source": [
    "import os\n",
    "from dashscope import MultiModalConversation\n",
    "\n",
    "# Please replace \"dog_and_girl.jpeg with the picture you want to call\"\n",
    "local_path = \"./dog_and_girl.jpeg\"\n",
    "image_path = f\"file://{local_path}\"\n",
    "messages = [{\"role\": \"system\",\n",
    "                \"content\": [{\"text\": \"You are a helpful assistant.\"}]},\n",
    "                {'role':'user',\n",
    "                'content': [{'image': image_path},\n",
    "                            {'text': 'What could be happening in the scene?'}]}]\n",
    "response = MultiModalConversation.call(\n",
    "    # 若没有配置环境变量，请用百炼API Key将下行替换为：api_key=\"sk-xxx\"\n",
    "    api_key=\"sk-73009b1ebbb84cc1aa2b3efeba348f87\",\n",
    "    model='qwen-vl-max-latest',\n",
    "    messages=messages)\n",
    "print(response[\"output\"][\"choices\"][0][\"message\"].content[0][\"text\"])"
   ]
  },
  {
   "cell_type": "markdown",
   "id": "c3837d07-785f-4f73-9dee-c4875bbb4cb8",
   "metadata": {},
   "source": [
    "## **5. Qwen-VL Responsing in stream output**"
   ]
  },
  {
   "cell_type": "code",
   "execution_count": 26,
   "id": "04d590a5-ba1f-4f32-8359-f1d4f7593837",
   "metadata": {},
   "outputs": [
    {
     "name": "stdout",
     "output_type": "stream",
     "text": [
      "Stream output：\n",
      "\n",
      "The picture shows a heartwarming\n",
      " scene on a sandy\n",
      " beach during what appears\n",
      " to be sunset.\n",
      " A person is sitting\n",
      " on the sand,\n",
      " wearing a plaid\n",
      " shirt and jeans,\n",
      " with their legs crossed\n",
      ". They are interacting\n",
      " with a light-colored\n",
      " dog, possibly a\n",
      " Labrador Retriever\n",
      ", which is sitting\n",
      " upright and extending its\n",
      " paw towards the person\n",
      "'s hand. The\n",
      " dog is wearing a\n",
      " harness. The background\n",
      " features the ocean with\n",
      " gentle waves and a\n",
      " bright, warm sky\n",
      ", creating a serene\n",
      " and peaceful atmosphere.\n",
      " The overall mood of\n",
      " the image is joyful\n",
      " and affectionate.\n",
      "\n",
      "The full content is：The picture shows a heartwarming scene on a sandy beach during what appears to be sunset. A person is sitting on the sand, wearing a plaid shirt and jeans, with their legs crossed. They are interacting with a light-colored dog, possibly a Labrador Retriever, which is sitting upright and extending its paw towards the person's hand. The dog is wearing a harness. The background features the ocean with gentle waves and a bright, warm sky, creating a serene and peaceful atmosphere. The overall mood of the image is joyful and affectionate.\n"
     ]
    }
   ],
   "source": [
    "from openai import OpenAI\n",
    "import os\n",
    "\n",
    "client = OpenAI(\n",
    "   \n",
    "    api_key=\"sk-73009b1ebbb84cc1aa2b3efeba348f87\",\n",
    "    base_url=\"https://dashscope.aliyuncs.com/compatible-mode/v1\",\n",
    ")\n",
    "\n",
    "completion = client.chat.completions.create(\n",
    "    model=\"qwen-vl-max-latest\",\n",
    "    messages=[\n",
    "\t{\"role\": \"system\",\n",
    "         \"content\": [{\"type\":\"text\",\"text\": \"You are a helpful assistant.\"}]},\n",
    "        {\"role\": \"user\",\n",
    "         \"content\": [{\"type\": \"image_url\",\n",
    "                    \"image_url\": {\"url\": \"https://help-static-aliyun-doc.aliyuncs.com/file-manage-files/zh-CN/20241022/emyrja/dog_and_girl.jpeg\"},},\n",
    "                    {\"type\": \"text\", \"text\": \"Could you please depict the picture provided?\"}]}],\n",
    "    stream=True\n",
    ")\n",
    "full_content = \"\"\n",
    "print(\"Stream output：\")\n",
    "for chunk in completion:\n",
    "    if chunk.choices[0].delta.content is None:\n",
    "        continue\n",
    "    full_content += chunk.choices[0].delta.content\n",
    "    print(chunk.choices[0].delta.content)\n",
    "print(f\"The full content is：{full_content}\")"
   ]
  },
  {
   "cell_type": "markdown",
   "id": "448fbce4-e1c7-44bb-97f0-f45373b693e6",
   "metadata": {},
   "source": [
    "## **6. Qwen-VL Multiple input figures with one call**"
   ]
  },
  {
   "cell_type": "code",
   "execution_count": 27,
   "id": "b9e6acde-11ff-4ba7-b44c-8b4b3c986ade",
   "metadata": {},
   "outputs": [
    {
     "name": "stdout",
     "output_type": "stream",
     "text": [
      "The figures in the images appear to be from different contexts. \n",
      "\n",
      "In the first image, a person and a dog are on a beach, likely enjoying a casual moment together. The setting suggests a relaxed, outdoor environment, possibly during a vacation or a day out by the sea.\n",
      "\n",
      "The second image features a tiger in a forested area. This scene is more naturalistic and could represent wildlife photography or an artistic rendering of a tiger in its habitat. The detailed depiction of the tiger and the surrounding foliage suggests it might be from a nature documentary, a wildlife photography collection, or a digital artwork inspired by nature.\n"
     ]
    }
   ],
   "source": [
    "import os\n",
    "from openai import OpenAI\n",
    "\n",
    "client = OpenAI(\n",
    "    api_key=\"sk-73009b1ebbb84cc1aa2b3efeba348f87\",\n",
    "    base_url=\"https://dashscope.aliyuncs.com/compatible-mode/v1\",\n",
    ")\n",
    "completion = client.chat.completions.create(\n",
    "    model=\"qwen-vl-max-latest\",\n",
    "    messages=[\n",
    "       {\"role\":\"system\",\"content\":[{\"type\": \"text\", \"text\": \"You are a helpful assistant.\"}]},\n",
    "       {\"role\": \"user\",\"content\": [\n",
    "           # First figure url，if you want to upload local file please replace the url to the local path and use dashscope\n",
    "           {\"type\": \"image_url\",\"image_url\": {\"url\": \"https://help-static-aliyun-doc.aliyuncs.com/file-manage-files/zh-CN/20241022/emyrja/dog_and_girl.jpeg\"},},\n",
    "           # Second figure url，if you want to upload local file please replace the url to the local path and use dashscope\n",
    "           {\"type\": \"image_url\",\"image_url\": {\"url\": \"https://dashscope.oss-cn-beijing.aliyuncs.com/images/tiger.png\"},},\n",
    "           {\"type\": \"text\", \"text\": \"Where do you think these figures are from?\"},\n",
    "            ],\n",
    "        }\n",
    "    ],\n",
    ")\n",
    "\n",
    "print(completion.choices[0].message.content)"
   ]
  },
  {
   "cell_type": "markdown",
   "id": "9b8afdda-43a5-4e7b-b911-4406fdb013ad",
   "metadata": {},
   "source": [
    "## **7. Qwen-VL input figure with higher resolutions such as : 2500*1667**"
   ]
  },
  {
   "cell_type": "code",
   "execution_count": 28,
   "id": "f1b6cad9-f5e0-4fd2-9a26-15c88851efb9",
   "metadata": {},
   "outputs": [
    {
     "name": "stdout",
     "output_type": "stream",
     "text": [
      "Qwen-VL Responses:\n",
      "  The image depicts a festive Christmas scene with various decorative elements. Here is a detailed list of the components in the scene:\n",
      "\n",
      "1. **Miniature Christmas Trees**: There are two small, snow-dusted artificial Christmas trees on either side of the arrangement.\n",
      "2. **Reindeer Figurine**: A reindeer figurine with large antlers is positioned centrally in the background.\n",
      "3. **Candles in Wooden Holders**: Two small candles are placed in rustic wooden holders that resemble tree stumps.\n",
      "4. **\"Merry Christmas\" Sign**: A wooden sign with the words \"MERRY CHRISTMAS\" cut out and decorated with small stars.\n",
      "5. **Gift Box**: A small, golden gift box with a bow is placed near the \"Merry Christmas\" sign.\n",
      "6. **Pine Cones**: Several pine cones are scattered around the scene, adding to the natural, wintery feel.\n",
      "7. **Berries and Greenery**: Red berries and green foliage are interspersed among the other decorations.\n",
      "8. **Golden Ornaments**: Shiny, golden spherical ornaments are included, reflecting light and adding a festive touch.\n",
      "9. **String Lights**: Small string lights are draped around the scene, providing a warm glow.\n",
      "10. **Fabric Bag**: A white fabric bag with red text (partially visible) is placed near the left side of the scene.\n",
      "11. **Wooden Background**: The backdrop consists of horizontal wooden planks, giving a rustic appearance.\n",
      "\n",
      "The overall scene is well-lit, creating a cozy and inviting holiday atmosphere.\n",
      "Token used： Total input Token： 5376 ，Figure input Token： 5342\n"
     ]
    }
   ],
   "source": [
    "import os\n",
    "import dashscope\n",
    "\n",
    "messages = [\n",
    "    {\n",
    "        \"role\": \"user\",\n",
    "        \"content\": [\n",
    "            {\"image\": \"https://help-static-aliyun-doc.aliyuncs.com/file-manage-files/zh-CN/20250212/earbrt/vcg_VCG211286867973_RF.jpg\"},\n",
    "            {\"text\": \"What are in the figure? Please list all components in the scene and describe\"}\n",
    "        ]\n",
    "    }\n",
    "]\n",
    "\n",
    "response = dashscope.MultiModalConversation.call(\n",
    "    api_key=\"sk-73009b1ebbb84cc1aa2b3efeba348f87\",\n",
    "    model='qwen-vl-max-latest',\n",
    "    messages=messages,\n",
    "    vl_high_resolution_images=True\n",
    ")\n",
    "\n",
    "print(\"Qwen-VL Responses:\\n \",response.output.choices[0].message.content[0][\"text\"])\n",
    "print(\"Token used：\",\"Total input Token：\",response.usage[\"input_tokens\"] , \"，Figure input Token：\" , response.usage[\"image_tokens\"])"
   ]
  },
  {
   "cell_type": "code",
   "execution_count": null,
   "id": "e4ee8119-ce01-4acf-b624-4fcab7062491",
   "metadata": {},
   "outputs": [],
   "source": []
  }
 ],
 "metadata": {
  "kernelspec": {
   "display_name": "Python 3 (ipykernel)",
   "language": "python",
   "name": "python3"
  },
  "language_info": {
   "codemirror_mode": {
    "name": "ipython",
    "version": 3
   },
   "file_extension": ".py",
   "mimetype": "text/x-python",
   "name": "python",
   "nbconvert_exporter": "python",
   "pygments_lexer": "ipython3",
   "version": "3.8.20"
  }
 },
 "nbformat": 4,
 "nbformat_minor": 5
}
