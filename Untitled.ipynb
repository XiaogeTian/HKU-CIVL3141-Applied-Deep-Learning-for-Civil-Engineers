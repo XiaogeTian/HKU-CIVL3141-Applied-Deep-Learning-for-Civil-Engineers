{
 "cells": [
  {
   "cell_type": "markdown",
   "id": "6849f898-46fb-4566-bb8a-983a09cc4873",
   "metadata": {},
   "source": [
    "# Hello world!"
   ]
  },
  {
   "cell_type": "markdown",
   "id": "a9015afe-12b0-4e3d-8106-ecc3540c33e6",
   "metadata": {},
   "source": [
    "# Hello world!"
   ]
  },
  {
   "cell_type": "code",
   "execution_count": null,
   "id": "f4641c87-dd6c-4419-9a36-c18d6ad282a5",
   "metadata": {},
   "outputs": [],
   "source": []
  }
 ],
 "metadata": {
  "kernelspec": {
   "display_name": "Python 3 (ipykernel)",
   "language": "python",
   "name": "python3"
  },
  "language_info": {
   "codemirror_mode": {
    "name": "ipython",
    "version": 3
   },
   "file_extension": ".py",
   "mimetype": "text/x-python",
   "name": "python",
   "nbconvert_exporter": "python",
   "pygments_lexer": "ipython3",
   "version": "3.8.20"
  }
 },
 "nbformat": 4,
 "nbformat_minor": 5
}
